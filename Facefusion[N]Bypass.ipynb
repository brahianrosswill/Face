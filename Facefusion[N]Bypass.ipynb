{
  "cells": [
    {
      "cell_type": "markdown",
      "metadata": {
        "id": "view-in-github",
        "colab_type": "text"
      },
      "source": [
        "<a href=\"https://colab.research.google.com/github/victorgeel/facefusion-Bypass-NSFW/blob/master/Facefusion%5BN%5DBypass.ipynb\" target=\"_parent\"><img src=\"https://colab.research.google.com/assets/colab-badge.svg\" alt=\"Open In Colab\"/></a>"
      ]
    },
    {
      "cell_type": "markdown",
      "metadata": {
        "id": "XKFI5beRk74J"
      },
      "source": [
        "Facefusion Bypass NsFw\n",
        "\n",
        "When you get any error at runtime\n",
        "please restart and wait until successful\n",
        "Not my own..I just modified..\n",
        "Credit to...by Respect\n",
        "Facefusion Dev plover..."
      ]
    },
    {
      "cell_type": "code",
      "execution_count": null,
      "metadata": {
        "id": "qwHmjscTjN-j"
      },
      "outputs": [],
      "source": [
        "!apt update\n",
        "!apt upgrade -y\n",
        "!git clone https://github.com/facefusion/facefusion --branch next --single-branch\n",
        "%cd /content/facefusion\n",
        "!python install.py --torch cuda --onnxruntime cuda"
      ]
    },
    {
      "cell_type": "code",
      "execution_count": null,
      "metadata": {
        "id": "Kj17Xo3tlzxY"
      },
      "outputs": [],
      "source": [
        "!pip install -r requirements.txt\n",
        "!pip install onnxruntime-gpu\n",
        "!apt update\n",
        "!apt upgrade -y"
      ]
    },
    {
      "cell_type": "code",
      "execution_count": null,
      "metadata": {
        "id": "fnHARhnhoXwQ"
      },
      "outputs": [],
      "source": [
        "!ssh-keygen -q -t rsa -N '' -f ~/.ssh/id_rsa <<<y\n",
        "!ssh-keyscan -t rsa remote.moe >> ~/.ssh/known_hosts"
      ]
    },
    {
      "cell_type": "code",
      "execution_count": null,
      "metadata": {
        "id": "Mlq1y-qnpC2Q"
      },
      "outputs": [],
      "source": [
        "\n",
        "%cd /content/facefusion\n",
        "!python run.py --execution-providers cpu & ssh -R 80:localhost:7860 remote.moe"
      ]
    }
  ],
  "metadata": {
    "accelerator": "GPU",
    "colab": {
      "provenance": [],
      "include_colab_link": true
    },
    "kernelspec": {
      "display_name": "Python 3",
      "name": "python3"
    },
    "language_info": {
      "name": "python"
    }
  },
  "nbformat": 4,
  "nbformat_minor": 0
}